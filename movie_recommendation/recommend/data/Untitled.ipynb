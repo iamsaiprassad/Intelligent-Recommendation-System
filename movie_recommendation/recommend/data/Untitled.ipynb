{
 "cells": [
  {
   "cell_type": "code",
   "execution_count": 10,
   "id": "fbcf44fd-41db-424e-b447-7cc9d1e6b5f8",
   "metadata": {},
   "outputs": [
    {
     "data": {
      "text/plain": [
       "(   movie_id                               title                        genres\n",
       " 0         1                    Toy Story (1995)   Animation|Children's|Comedy\n",
       " 1         2                      Jumanji (1995)  Adventure|Children's|Fantasy\n",
       " 2         3             Grumpier Old Men (1995)                Comedy|Romance\n",
       " 3         4            Waiting to Exhale (1995)                  Comedy|Drama\n",
       " 4         5  Father of the Bride Part II (1995)                        Comedy,\n",
       "    user_id  movie_id  rating  timestamp\n",
       " 0        1      1193       5  978300760\n",
       " 1        1       661       3  978302109\n",
       " 2        1       914       3  978301968\n",
       " 3        1      3408       4  978300275\n",
       " 4        1      2355       5  978824291,\n",
       "    UserID Gender  Age  Occupation Zip-code\n",
       " 0       1      F    1          10    48067\n",
       " 1       2      M   56          16    70072\n",
       " 2       3      M   25          15    55117\n",
       " 3       4      M   45           7    02460\n",
       " 4       5      M   25          20    55455)"
      ]
     },
     "execution_count": 10,
     "metadata": {},
     "output_type": "execute_result"
    }
   ],
   "source": [
    "import pandas as pd\n",
    "MOVIE_DATA_PATH = r'S:\\Python Project env\\Intelligent Recommendation System\\movie_recommendation\\recommend\\data\\movies.dat'\n",
    "RATINGS_DATA_PATH = r'S:\\Python Project env\\Intelligent Recommendation System\\movie_recommendation\\recommend\\data\\ratings.dat'\n",
    "USERS_DATA_PATH = r'S:\\Python Project env\\Intelligent Recommendation System\\movie_recommendation\\recommend\\data\\users.dat'\n",
    "\n",
    "ratings = pd.read_csv(RATINGS_DATA_PATH, sep='::', engine='python', names=['user_id', 'movie_id', 'rating', 'timestamp'])\n",
    "\n",
    "    # Load movies\n",
    "movies = pd.read_csv(MOVIE_DATA_PATH, sep='::', engine='python', names=['movie_id', 'title', 'genres'],encoding='latin1')\n",
    "\n",
    "users = pd.read_csv(USERS_DATA_PATH, sep='::', header=None, engine='python', \n",
    "                        names=['UserID', 'Gender', 'Age', 'Occupation', 'Zip-code'])\n",
    "movies.head() , ratings.head() , users.head()"
   ]
  },
  {
   "cell_type": "code",
   "execution_count": null,
   "id": "2b4cfb28-a417-46e2-af37-e3d0681d9156",
   "metadata": {},
   "outputs": [],
   "source": []
  }
 ],
 "metadata": {
  "kernelspec": {
   "display_name": "Python 3 (ipykernel)",
   "language": "python",
   "name": "python3"
  },
  "language_info": {
   "codemirror_mode": {
    "name": "ipython",
    "version": 3
   },
   "file_extension": ".py",
   "mimetype": "text/x-python",
   "name": "python",
   "nbconvert_exporter": "python",
   "pygments_lexer": "ipython3",
   "version": "3.10.2"
  }
 },
 "nbformat": 4,
 "nbformat_minor": 5
}
